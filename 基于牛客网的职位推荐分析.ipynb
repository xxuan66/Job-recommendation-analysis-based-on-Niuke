{
 "cells": [
  {
   "cell_type": "markdown",
   "id": "active-examination",
   "metadata": {},
   "source": [
    "# 导入数据"
   ]
  },
  {
   "cell_type": "code",
   "execution_count": 1,
   "id": "adapted-melissa",
   "metadata": {},
   "outputs": [
    {
     "name": "stdout",
     "output_type": "stream",
     "text": [
      "数据量： (4619, 8)\n"
     ]
    }
   ],
   "source": [
    "import pandas as pd\n",
    "pd.set_option('display.max_colwidth', 50)\n",
    "# 导入包\n",
    "import warnings  # 忽略错误提示\n",
    "warnings.filterwarnings('ignore')  # 代码可以正常运行但是会提示警告，特别讨厌\n",
    "warnings.simplefilter('ignore')  # 也是一种错误忽略\n",
    "\n",
    "def data_load(path):\n",
    "    data = pd.read_excel(path)\n",
    "    return data\n",
    "path = './datahouse/data_all.xlsx'  # 相对路径\n",
    "data = data_load(path)\n",
    "print('数据量：',data.shape)"
   ]
  },
  {
   "cell_type": "code",
   "execution_count": 2,
   "id": "greenhouse-drama",
   "metadata": {},
   "outputs": [
    {
     "data": {
      "text/html": [
       "<div>\n",
       "<style scoped>\n",
       "    .dataframe tbody tr th:only-of-type {\n",
       "        vertical-align: middle;\n",
       "    }\n",
       "\n",
       "    .dataframe tbody tr th {\n",
       "        vertical-align: top;\n",
       "    }\n",
       "\n",
       "    .dataframe thead th {\n",
       "        text-align: right;\n",
       "    }\n",
       "</style>\n",
       "<table border=\"1\" class=\"dataframe\">\n",
       "  <thead>\n",
       "    <tr style=\"text-align: right;\">\n",
       "      <th></th>\n",
       "      <th>岗位名称</th>\n",
       "      <th>岗位链接</th>\n",
       "      <th>公司名称</th>\n",
       "      <th>地点</th>\n",
       "      <th>工资</th>\n",
       "      <th>岗位职责</th>\n",
       "      <th>岗位要求</th>\n",
       "      <th>label</th>\n",
       "    </tr>\n",
       "  </thead>\n",
       "  <tbody>\n",
       "    <tr>\n",
       "      <th>0</th>\n",
       "      <td>资深海外运营（slg）</td>\n",
       "      <td>https://uploadfiles.nowcoder.com/files/2019071...</td>\n",
       "      <td>三七互娱</td>\n",
       "      <td>未公布</td>\n",
       "      <td>¥薪资面议</td>\n",
       "      <td>\\n\\n1、负责slg手机游戏产品运营策略的制定、调整、组织实施和监控；\\n\\n2、监控并分...</td>\n",
       "      <td>\\n\\n1、本科及以上学历，3年以上游戏运营相关工作经验，对slg手游运营流程及全局把控比较...</td>\n",
       "      <td>运营</td>\n",
       "    </tr>\n",
       "    <tr>\n",
       "      <th>1</th>\n",
       "      <td>海外运营（请仔细阅读岗位要求）</td>\n",
       "      <td>https://images.nowcoder.com/files/20201119/999...</td>\n",
       "      <td>MindCoord</td>\n",
       "      <td>未公布</td>\n",
       "      <td>¥薪资面议</td>\n",
       "      <td>\\n\\n1、负责公司海外地区发行产品的对接，版本管理、优化与验收，以及上线前筹备准备工作；\\...</td>\n",
       "      <td>\\n\\n* 本公司为创业公司，现招收希望转换赛道、有创业意愿的成员。仅有职位应聘想法，无创业...</td>\n",
       "      <td>运营</td>\n",
       "    </tr>\n",
       "    <tr>\n",
       "      <th>2</th>\n",
       "      <td>新媒体推广运营</td>\n",
       "      <td>https://images.nowcoder.com/images/20200723/30...</td>\n",
       "      <td>帆软软件有限公司</td>\n",
       "      <td>未公布</td>\n",
       "      <td>¥9K-16K</td>\n",
       "      <td>\\n\\n工作职责\\n\\n1.根据产品增长计划，参与产品推广策略的制定，全程跟进方案的落地执行...</td>\n",
       "      <td>\\n\\n任职资格\\n\\n1.本科院校，毕业1-3年内，专业不限，理工科优先；\\n\\n2.良好...</td>\n",
       "      <td>运营</td>\n",
       "    </tr>\n",
       "    <tr>\n",
       "      <th>3</th>\n",
       "      <td>产品运营</td>\n",
       "      <td>https://images.nowcoder.com/images/20200723/30...</td>\n",
       "      <td>帆软软件有限公司</td>\n",
       "      <td>未公布</td>\n",
       "      <td>¥10K-40K</td>\n",
       "      <td>\\n\\n1.功能运营方向：负责产品重要功能模块的上线运营，与产品部门配合，定位功能模块问题与...</td>\n",
       "      <td>\\n\\n1.重点本科及以上学历，毕业5年内，理工科专业背景；\\n\\n2.有toB软件运营/产...</td>\n",
       "      <td>运营</td>\n",
       "    </tr>\n",
       "    <tr>\n",
       "      <th>4</th>\n",
       "      <td>产品推广运营</td>\n",
       "      <td>https://images.nowcoder.com/images/20200723/30...</td>\n",
       "      <td>帆软软件有限公司</td>\n",
       "      <td>未公布</td>\n",
       "      <td>¥8K-16K</td>\n",
       "      <td>\\n\\n1、根据产品增长计划，参与产品推广策略的制定，全程跟进方案的落地执行，直接对推广结果...</td>\n",
       "      <td>\\n\\n1、重点本科院校，毕业3年内，专业不限，理工科优先；\\n\\n2、良好的文笔基础和审美...</td>\n",
       "      <td>运营</td>\n",
       "    </tr>\n",
       "  </tbody>\n",
       "</table>\n",
       "</div>"
      ],
      "text/plain": [
       "              岗位名称                                               岗位链接  \\\n",
       "0      资深海外运营（slg）  https://uploadfiles.nowcoder.com/files/2019071...   \n",
       "1  海外运营（请仔细阅读岗位要求）  https://images.nowcoder.com/files/20201119/999...   \n",
       "2          新媒体推广运营  https://images.nowcoder.com/images/20200723/30...   \n",
       "3             产品运营  https://images.nowcoder.com/images/20200723/30...   \n",
       "4           产品推广运营  https://images.nowcoder.com/images/20200723/30...   \n",
       "\n",
       "        公司名称   地点        工资  \\\n",
       "0       三七互娱  未公布     ¥薪资面议   \n",
       "1  MindCoord  未公布     ¥薪资面议   \n",
       "2   帆软软件有限公司  未公布   ¥9K-16K   \n",
       "3   帆软软件有限公司  未公布  ¥10K-40K   \n",
       "4   帆软软件有限公司  未公布   ¥8K-16K   \n",
       "\n",
       "                                                岗位职责  \\\n",
       "0  \\n\\n1、负责slg手机游戏产品运营策略的制定、调整、组织实施和监控；\\n\\n2、监控并分...   \n",
       "1  \\n\\n1、负责公司海外地区发行产品的对接，版本管理、优化与验收，以及上线前筹备准备工作；\\...   \n",
       "2  \\n\\n工作职责\\n\\n1.根据产品增长计划，参与产品推广策略的制定，全程跟进方案的落地执行...   \n",
       "3  \\n\\n1.功能运营方向：负责产品重要功能模块的上线运营，与产品部门配合，定位功能模块问题与...   \n",
       "4  \\n\\n1、根据产品增长计划，参与产品推广策略的制定，全程跟进方案的落地执行，直接对推广结果...   \n",
       "\n",
       "                                                岗位要求 label  \n",
       "0  \\n\\n1、本科及以上学历，3年以上游戏运营相关工作经验，对slg手游运营流程及全局把控比较...    运营  \n",
       "1  \\n\\n* 本公司为创业公司，现招收希望转换赛道、有创业意愿的成员。仅有职位应聘想法，无创业...    运营  \n",
       "2  \\n\\n任职资格\\n\\n1.本科院校，毕业1-3年内，专业不限，理工科优先；\\n\\n2.良好...    运营  \n",
       "3  \\n\\n1.重点本科及以上学历，毕业5年内，理工科专业背景；\\n\\n2.有toB软件运营/产...    运营  \n",
       "4  \\n\\n1、重点本科院校，毕业3年内，专业不限，理工科优先；\\n\\n2、良好的文笔基础和审美...    运营  "
      ]
     },
     "execution_count": 2,
     "metadata": {},
     "output_type": "execute_result"
    }
   ],
   "source": [
    "data.head()"
   ]
  },
  {
   "cell_type": "markdown",
   "id": "earlier-capacity",
   "metadata": {},
   "source": [
    "# 数据预处理"
   ]
  },
  {
   "cell_type": "code",
   "execution_count": 3,
   "id": "revised-xerox",
   "metadata": {},
   "outputs": [
    {
     "name": "stderr",
     "output_type": "stream",
     "text": [
      "Building prefix dict from D:\\python\\商务智能\\BI2\\dict.txt ...\n",
      "Loading model from cache C:\\Users\\赵轩\\AppData\\Local\\Temp\\jieba.uaa84715fb49bf8794905cb5cb7e555f5.cache\n",
      "Loading model cost 0.562 seconds.\n",
      "Prefix dict has been built successfully.\n"
     ]
    }
   ],
   "source": [
    "import re\n",
    "import jieba\n",
    "jieba.set_dictionary(\".\\dict.txt\")\n",
    "jieba.initialize()\n",
    "\n",
    "def data_pre_process(Data):  # 数据预处理\n",
    "    data = Data[:]\n",
    "    data = data[['岗位名称','地点','工资','岗位职责','岗位要求','label']]  # 提取这几个字段\n",
    "    data_drop = data.drop_duplicates(subset=['岗位名称','岗位职责','岗位要求'],keep='first',inplace =False)   # 按照岗位职责和岗位要求去除重复值\n",
    "    data_drop = data_drop.dropna() # 去除空值\n",
    "         \n",
    "    data_drop['岗位职责_cut'] = data_drop['岗位职责'].apply(lambda x : x.replace('\\n',''))\n",
    "    data_drop['岗位职责_cut'] = data_drop['岗位职责_cut'].apply(lambda x : x.replace(' ',''))\n",
    "    data_drop['岗位职责_cut'] = data_drop['岗位职责_cut'].apply(lambda x : re.sub('[0-9]','',x))\n",
    "    data_drop['岗位职责_cut'] = data_drop['岗位职责_cut'].apply(lambda x : re.sub(\"[; ！•、，\\\\\\/\\'+．:（）...：‘，。’,“”、\\#•*~(\\t；-]\",'',x))\n",
    "\n",
    "    data_drop['岗位要求_cut'] = data_drop['岗位要求'].apply(lambda x : x.replace('\\n',''))\n",
    "    data_drop['岗位要求_cut'] = data_drop['岗位要求_cut'].apply(lambda x : x.replace(' ',''))\n",
    "    data_drop['岗位要求_cut'] = data_drop['岗位要求_cut'].apply(lambda x : re.sub('[0-9]','',x))\n",
    "    data_drop['岗位要求_cut'] = data_drop['岗位要求_cut'].apply(lambda x : re.sub(\"[; ！•、，\\\\\\/\\'+．:（）...：‘，。’,“”、\\#•*~(\\t；-]\",'',x))\n",
    "\n",
    "    # 分词\n",
    "    jieba.load_userdict('interger.txt')  # 定义分隔词，保证数据词不被分开\n",
    "    data_jieba = data_drop[:]\n",
    "    data_jieba['岗位职责_cut'] = data_jieba['岗位职责_cut'].apply(lambda x:jieba.lcut(x))\n",
    "    data_jieba['岗位要求_cut'] = data_jieba['岗位要求_cut'].apply(lambda x:jieba.lcut(x))\n",
    "\n",
    "    # 去停用词\n",
    "    stopwords = pd.read_csv('stoplist.txt',encoding='utf-8',sep='haha',header=None,engine='python')\n",
    "    stopwords = ['要'] + list(stopwords.iloc[:,0])  # 手动添加停用词\n",
    "    data_jieba['岗位职责_stop'] = data_jieba['岗位职责_cut'].apply(lambda x:[i for i in x if i not in stopwords])\n",
    "    data_jieba['岗位职责_stop'] = data_jieba['岗位职责_stop'].apply(lambda x:' '.join(x))  # 转成字符串\n",
    "    data_jieba['岗位要求_stop'] = data_jieba['岗位要求_cut'].apply(lambda x:[i for i in x if i not in stopwords])\n",
    "    data_jieba['岗位要求_stop'] = data_jieba['岗位要求_stop'].apply(lambda x : ' '.join(x)) # 转成字符串\n",
    "    data_jieba = data_jieba.reset_index(drop=True)\n",
    "    return data_jieba\n",
    "data_process = data_pre_process(data)"
   ]
  },
  {
   "cell_type": "code",
   "execution_count": 4,
   "id": "peripheral-password",
   "metadata": {},
   "outputs": [
    {
     "data": {
      "text/html": [
       "<div>\n",
       "<style scoped>\n",
       "    .dataframe tbody tr th:only-of-type {\n",
       "        vertical-align: middle;\n",
       "    }\n",
       "\n",
       "    .dataframe tbody tr th {\n",
       "        vertical-align: top;\n",
       "    }\n",
       "\n",
       "    .dataframe thead th {\n",
       "        text-align: right;\n",
       "    }\n",
       "</style>\n",
       "<table border=\"1\" class=\"dataframe\">\n",
       "  <thead>\n",
       "    <tr style=\"text-align: right;\">\n",
       "      <th></th>\n",
       "      <th>岗位名称</th>\n",
       "      <th>地点</th>\n",
       "      <th>工资</th>\n",
       "      <th>岗位职责</th>\n",
       "      <th>岗位要求</th>\n",
       "      <th>label</th>\n",
       "      <th>岗位职责_cut</th>\n",
       "      <th>岗位要求_cut</th>\n",
       "      <th>岗位职责_stop</th>\n",
       "      <th>岗位要求_stop</th>\n",
       "    </tr>\n",
       "  </thead>\n",
       "  <tbody>\n",
       "    <tr>\n",
       "      <th>0</th>\n",
       "      <td>资深海外运营（slg）</td>\n",
       "      <td>未公布</td>\n",
       "      <td>¥薪资面议</td>\n",
       "      <td>\\n\\n1、负责slg手机游戏产品运营策略的制定、调整、组织实施和监控；\\n\\n2、监控并分...</td>\n",
       "      <td>\\n\\n1、本科及以上学历，3年以上游戏运营相关工作经验，对slg手游运营流程及全局把控比较...</td>\n",
       "      <td>运营</td>\n",
       "      <td>[负责, slg, 手机游戏, 产品, 运营, 策略, 的, 制定, 调整, 组织, 实施,...</td>\n",
       "      <td>[本科, 及, 以上学历, 年, 以上, 游戏, 运营, 相关, 工作, 经验, 对, sl...</td>\n",
       "      <td>负责 slg 手机游戏 产品 运营 策略 调整 组织 实施 监控 监控 分析 产品 运营 数...</td>\n",
       "      <td>本科 游戏 运营 slg 手游 运营 流程 全局 游戏 经验丰富 手机游戏 产品 群体 市场...</td>\n",
       "    </tr>\n",
       "    <tr>\n",
       "      <th>1</th>\n",
       "      <td>海外运营（请仔细阅读岗位要求）</td>\n",
       "      <td>未公布</td>\n",
       "      <td>¥薪资面议</td>\n",
       "      <td>\\n\\n1、负责公司海外地区发行产品的对接，版本管理、优化与验收，以及上线前筹备准备工作；\\...</td>\n",
       "      <td>\\n\\n* 本公司为创业公司，现招收希望转换赛道、有创业意愿的成员。仅有职位应聘想法，无创业...</td>\n",
       "      <td>运营</td>\n",
       "      <td>[负责, 公司, 海外, 地区, 发行, 产品, 的, 对接, 版本, 管理, 优化, 与,...</td>\n",
       "      <td>[本, 公司, 为, 创业, 公司, 现, 招收, 希望, 转换, 赛道, 有, 创业, 意...</td>\n",
       "      <td>负责 公司 海外 地区 发行 产品 对接 版本 管理 优化 验收 上线 前 筹备 海外 市场...</td>\n",
       "      <td>公司 创业 公司 招收 转换 赛道 创业 意愿 职位 应聘 想法 创业 意愿 投递 干股 回...</td>\n",
       "    </tr>\n",
       "  </tbody>\n",
       "</table>\n",
       "</div>"
      ],
      "text/plain": [
       "              岗位名称   地点     工资  \\\n",
       "0      资深海外运营（slg）  未公布  ¥薪资面议   \n",
       "1  海外运营（请仔细阅读岗位要求）  未公布  ¥薪资面议   \n",
       "\n",
       "                                                岗位职责  \\\n",
       "0  \\n\\n1、负责slg手机游戏产品运营策略的制定、调整、组织实施和监控；\\n\\n2、监控并分...   \n",
       "1  \\n\\n1、负责公司海外地区发行产品的对接，版本管理、优化与验收，以及上线前筹备准备工作；\\...   \n",
       "\n",
       "                                                岗位要求 label  \\\n",
       "0  \\n\\n1、本科及以上学历，3年以上游戏运营相关工作经验，对slg手游运营流程及全局把控比较...    运营   \n",
       "1  \\n\\n* 本公司为创业公司，现招收希望转换赛道、有创业意愿的成员。仅有职位应聘想法，无创业...    运营   \n",
       "\n",
       "                                            岗位职责_cut  \\\n",
       "0  [负责, slg, 手机游戏, 产品, 运营, 策略, 的, 制定, 调整, 组织, 实施,...   \n",
       "1  [负责, 公司, 海外, 地区, 发行, 产品, 的, 对接, 版本, 管理, 优化, 与,...   \n",
       "\n",
       "                                            岗位要求_cut  \\\n",
       "0  [本科, 及, 以上学历, 年, 以上, 游戏, 运营, 相关, 工作, 经验, 对, sl...   \n",
       "1  [本, 公司, 为, 创业, 公司, 现, 招收, 希望, 转换, 赛道, 有, 创业, 意...   \n",
       "\n",
       "                                           岗位职责_stop  \\\n",
       "0  负责 slg 手机游戏 产品 运营 策略 调整 组织 实施 监控 监控 分析 产品 运营 数...   \n",
       "1  负责 公司 海外 地区 发行 产品 对接 版本 管理 优化 验收 上线 前 筹备 海外 市场...   \n",
       "\n",
       "                                           岗位要求_stop  \n",
       "0  本科 游戏 运营 slg 手游 运营 流程 全局 游戏 经验丰富 手机游戏 产品 群体 市场...  \n",
       "1  公司 创业 公司 招收 转换 赛道 创业 意愿 职位 应聘 想法 创业 意愿 投递 干股 回...  "
      ]
     },
     "execution_count": 4,
     "metadata": {},
     "output_type": "execute_result"
    }
   ],
   "source": [
    "data_process.head(2)"
   ]
  },
  {
   "cell_type": "markdown",
   "id": "proprietary-popularity",
   "metadata": {},
   "source": [
    "# 抽取‘数据’岗位"
   ]
  },
  {
   "cell_type": "code",
   "execution_count": 5,
   "id": "handmade-revelation",
   "metadata": {},
   "outputs": [],
   "source": [
    "shuju = data_process[data_process['label'] =='数据']"
   ]
  },
  {
   "cell_type": "markdown",
   "id": "dedicated-prototype",
   "metadata": {},
   "source": [
    "# “数据”岗位词云图"
   ]
  },
  {
   "cell_type": "code",
   "execution_count": 6,
   "id": "secret-praise",
   "metadata": {},
   "outputs": [
    {
     "data": {
      "image/png": "[encoded data removed]",
      "text/plain": [
       "<Figure size 432x288 with 1 Axes>"
      ]
     },
     "metadata": {
      "needs_background": "light"
     },
     "output_type": "display_data"
    }
   ],
   "source": [
    "def Get_cloud(words):\n",
    "    from wordcloud import WordCloud\n",
    "    import matplotlib.pyplot as plt\n",
    "\n",
    "    plt.rcParams['font.sans-serif'] = ['SimHei'] \n",
    "    plt.rcParams['axes.unicode_minus'] = False  \n",
    "    font = r'C:\\Windows\\Fonts\\simfang.ttf'\n",
    "    wordcloud = WordCloud(font_path=font,\n",
    "                         background_color='white')\n",
    "    wordcloud.generate(str(words))\n",
    "    plt.imshow(wordcloud)\n",
    "    plt.show()\n",
    "str_sum = shuju['岗位要求_stop'].sum()\n",
    "Get_cloud(str_sum)  # 词云图"
   ]
  },
  {
   "cell_type": "markdown",
   "id": "conventional-cookbook",
   "metadata": {},
   "source": [
    "## 基于TF-IDF的“数据”岗位词云图"
   ]
  },
  {
   "cell_type": "code",
   "execution_count": 7,
   "id": "optical-remainder",
   "metadata": {},
   "outputs": [],
   "source": [
    "import jieba.analyse\n",
    "\n",
    "tifidf_word = jieba.analyse.extract_tags(str(shuju['岗位要求_stop'].sum()), topK=50, withWeight=True, allowPOS=())"
   ]
  },
  {
   "cell_type": "code",
   "execution_count": 8,
   "id": "steady-railway",
   "metadata": {},
   "outputs": [
    {
     "name": "stdout",
     "output_type": "stream",
     "text": [
      "('能力', 0.20451739196423394)\n",
      "('Python', 0.11618681113631459)\n",
      "('数据', 0.11403527838034762)\n",
      "('大数据', 0.10977158843553647)\n",
      "('开发', 0.09787360904054199)\n",
      "('Java', 0.09587193925051725)\n",
      "('专业', 0.09120900742168918)\n",
      "('编程', 0.08654172910061264)\n",
      "('数据分析', 0.07816045922207615)\n",
      "('数据库', 0.07815695921352832)\n"
     ]
    }
   ],
   "source": [
    "for i in range(10):\n",
    "    print(tifidf_word[i])"
   ]
  },
  {
   "cell_type": "code",
   "execution_count": 9,
   "id": "essential-bottle",
   "metadata": {},
   "outputs": [
    {
     "data": {
      "text/plain": [
       "'[(能力, 0.20451739196423394), (Python, 0.11618681113631459), (数据, 0.11403527838034762), (大数据, 0.10977158843553647), (开发, 0.09787360904054199), (Java, 0.09587193925051725), (专业, 0.09120900742168918), (编程, 0.08654172910061264), (数据分析, 0.07816045922207615), (数据库, 0.07815695921352832), (技术, 0.07682150134153831), (算法, 0.07591804875071072), (SQL, 0.07591346862587425), (本科, 0.074197062932972), (沟通, 0.07395758456506753), (计算机, 0.07282943119834004), (计算机相关, 0.07021104844740482), (实习, 0.07010254388284859), (扎实, 0.06518295397881943), (开源, 0.06509692961622991), (团队, 0.06446561391130669), (熟练掌握, 0.05987504739127389), (机器学习, 0.05595499800123126), (精通, 0.0551875126428763), (基础, 0.051263341042623506), (数据结构, 0.05013051355012969), (Linux, 0.04526296016660108), (语言, 0.04465104225966729), (分析, 0.0443307617098888), (编程语言, 0.044243217073189636), (数据仓库, 0.04383735512198372), (python, 0.04348095386082938), (数据处理, 0.04305962250064752), (框架, 0.042968448099928155), (Kafka, 0.040986145032749007), (数据挖掘, 0.040556170842029636), (CC, 0.04027334251044033), (数学, 0.0401902470579018), (编码, 0.04011111125555854), (建模, 0.038671443336374206), (工具, 0.038663809759284504), (分布式, 0.038351230474245), (互联网, 0.038217830717950096), (理解, 0.034413275596409686), (linux, 0.033858119809662225), (责任心, 0.0337874030481561), (项目, 0.03362650390781146), (善于, 0.030952000488735355), (系统, 0.02972292479200787), (逻辑思维, 0.029643609471797394)]'"
      ]
     },
     "execution_count": 9,
     "metadata": {},
     "output_type": "execute_result"
    }
   ],
   "source": [
    "str(tifidf_word).replace(\"'\",'')   # 将keys的引号删除"
   ]
  },
  {
   "cell_type": "code",
   "execution_count": 10,
   "id": "checked-syndicate",
   "metadata": {},
   "outputs": [
    {
     "data": {
      "image/png": "[encoded data removed]",
      "text/plain": [
       "<Figure size 432x288 with 1 Axes>"
      ]
     },
     "metadata": {
      "needs_background": "light"
     },
     "output_type": "display_data"
    }
   ],
   "source": [
    "def Get_cloud(words):\n",
    "    from wordcloud import WordCloud\n",
    "    import matplotlib.pyplot as plt\n",
    "\n",
    "    plt.rcParams['font.sans-serif'] = ['SimHei'] # 步骤一（替换sans-serif字体）\n",
    "    plt.rcParams['axes.unicode_minus'] = False  # 步骤二（解决坐标轴负数的负号显示问题）\n",
    "    font = r'C:\\Windows\\Fonts\\simfang.ttf'\n",
    "    wordcloud = WordCloud(font_path=font,\n",
    "                         background_color='white')\n",
    "    wordcloud.generate(str(words))\n",
    "    plt.imshow(wordcloud)\n",
    "    plt.show()\n",
    "Get_cloud(str(tifidf_word).replace(\"'\",''))  # 词云图"
   ]
  },
  {
   "cell_type": "markdown",
   "id": "friendly-injection",
   "metadata": {},
   "source": [
    "# TF-IDF"
   ]
  },
  {
   "cell_type": "markdown",
   "id": "prompt-signal",
   "metadata": {},
   "source": [
    "## CountVectorizer词频矩阵计算"
   ]
  },
  {
   "cell_type": "code",
   "execution_count": 11,
   "id": "adopted-craft",
   "metadata": {},
   "outputs": [],
   "source": [
    "sum_List = data_process.groupby('label')['岗位要求_stop'].sum()  # 根据标签将岗位要求合并"
   ]
  },
  {
   "cell_type": "code",
   "execution_count": 12,
   "id": "colonial-raise",
   "metadata": {},
   "outputs": [
    {
     "name": "stdout",
     "output_type": "stream",
     "text": [
      "label\n",
      "hr         毕业 在校学生 专业 积极主动 责任心 踏实 沟通 能力 抗压 能力 实习 连续 实习 每周...\n",
      "产品专家       本科 产品设计 负责 App 产品 IoT 领域 产品设计 推荐 类产品 为佳 负责 一条 ...\n",
      "产品助理       职位 以下几点 本科 国内外 知名 大学 院校 加分 英文 基础 大学 英语六级 同等 水平...\n",
      "产品经理       全日制 本科 互联网 产品 企业 内部 管理 产品 卓越 放宽 两项 系统 ERP 财务 系...\n",
      "产品运营       全日制 本科 产品 运营 互联网 金融公司 信用卡 中心 消费 金融公司 运营 背景 信贷 ...\n",
      "人事         学生会 社团 善于 把握 品德 性格 吃苦 富 远见 锻炼 自我 能力专业 信息管理 人力 ...\n",
      "人力         任职 RequirementsandQualifications 大专 人力资源 专业 三年...\n",
      "前端工程师      重点 本科学历 毕业 年内 熟练掌握 Html CSS Websocket 开发 jQuer...\n",
      "后台开发工程师    熟练掌握 CC Python 一门 语言 扎实 数据结构 算法 功底 开源 组件 MySQL...\n",
      "后端工程师      公司 创业 公司 招收 转换 赛道 创业 意愿 职位 应聘 想法 创业 意愿 投递 干股 回...\n",
      "售前工程师      重点 大学 本科学历 理工科 专业 背景 毕业 年内 企业 信息化 软件 常见 功能 场景 ...\n",
      "大数据工程师     任职 资格 重点 本科毕业 年内 理工科 专业 背景 Java 基础 SpringbootG...\n",
      "安全工程师      负责 企业 系统 网络安全 规划 重点 负责 OAIDC 云 方向 负责 指导 线 系统 网...\n",
      "实施工程师      重点 院校 本科 毕业生 理工科 专业 背景 软件 专业 软件 背景 沟通 能力 人际交往 ...\n",
      "市场         大学本科 互联网 广告投放 形式 主流 广告 如广点 通 UC 爱奇艺 百度 微信 投放 流...\n",
      "开发工程师      本科学历 毕业 年内 计算机 统计 数学 专业 熟练掌握 SQL MySQL Postgre...\n",
      "推广         海外 产品 投放 社交 产品 推广 海外 投放 渠道 限于 Go ogle 系 Facebo...\n",
      "数据         计算机软件 人工智能 大数据 专业 扎实 数据结构 算法 功底 工程 能力 Linux 开发...\n",
      "数据工程师      分布式系统 原理 存储 队列 集群 管理 一项 多项 理解 挑战 答案 快速 理解 场景 抽...\n",
      "数据库工程师     报表 开发 FINEREPORTTABLEAU 数据 可视化 技术 工具 独立 一整套 数据...\n",
      "数据挖掘工程师    计算机 统计 数学 NLP 专业 硕士 机器学习 模型 算法 框架 GBDTLRSVMTen...\n",
      "新媒体运营      任职 资格 本科 院校 毕业 年内 专业 理工科 文笔 基础 审美 能力 能快 准狠 洞察 ...\n",
      "爬虫工程师      正规 院校 本科 软件 计算机 通信 信息安全 网络工程 专业 Python 开发 自动化测...\n",
      "电商         一年 电商 推广 操作 推广 工具 逻辑思维 文案 创作 能力 数据分析 能力 独立 对接 ...\n",
      "电商运营       本科 英语 语言 运营商 家 运营 深 消费者 洞察 策略 思考 能力 数据 沟通 技巧 组...\n",
      "研发工程师      熟练掌握 一门 主流 程序设计 语言 CC JAVA PYTHONGO 编码 技巧 数据结构...\n",
      "算法工程师      代码 热情 编程 风格 代码 洁癖 熟练掌握 Linux 开发 环境 熟练掌握 C Pyth...\n",
      "营销         本科 应届 毕业生 英语 能力 抗压 能力 逻辑思维 能力 突发事件 能力 敏捷 情商 高 ...\n",
      "财务         本科 理工科 人力资源 工商管理 专业 英语 四级 猎头 行业 长期 发展 性格开朗 沟通 ...\n",
      "软件工程师      地点 地点 慈溪 桥头镇 东 工业区 日旺 北路 号 地点 慈溪市 文化 商务区 金帅 大厦...\n",
      "软件开发工程师    本科 扎实 计算机专业 基本功 编码 代码 控制能力 扎实 数据结构 算法 功底 Linux...\n",
      "软件架构师      计算机 体系结构 软件 基础理论 扎实 GPU 集群 搭建 Git Docker Ks De...\n",
      "软件测试工程师    重点 本科学历 毕业 年内 有过 测试 覆盖 测试 用例 设计 过程 常见 测试方法 熟练掌...\n",
      "运维工程师      重点 本科毕业 年内 理工科 专业 背景 Linux 运维 Linux 操作系统 系统 运维...\n",
      "运营         本科 游戏 运营 slg 手游 运营 流程 全局 游戏 经验丰富 手机游戏 产品 群体 市场...\n",
      "采购         为人正直 廉洁自律 大学本科 英文 CET 级 采购 行政 文字处理 能力 采购 文件 梳理...\n",
      "销售         任职 本科学历 理工科 专业 背景 毕业 年内 销售 销售 销售 管理工作 极强 热情 销售...\n",
      "销售工程师      本科学历 理工科 专业 背景 销售 极强 热情 销售 职业规划 人际交往 能力 社团 学生 ...\n",
      "项目经理       本科 大中型 软件 项目 专业 计算机 软件工程 专业 配置管理 工具 GIT Maven ...\n",
      "Name: 岗位要求_stop, dtype: object\n"
     ]
    }
   ],
   "source": [
    "print(sum_List)"
   ]
  },
  {
   "cell_type": "code",
   "execution_count": 13,
   "id": "coral-month",
   "metadata": {},
   "outputs": [
    {
     "name": "stdout",
     "output_type": "stream",
     "text": [
      "['android', 'cc', 'go', 'java', 'linux', 'mysql', 'python', 'sql', 'web', '一门', '专业', '专业本科', '主流', '互联网', '产品', '代码', '优化', '公司', '分布式', '分析', '前端', '办公', '功底', '协作', '协调', '原理', '善于', '团队', '基础', '多线程', '大数据', '实习', '工具', '常见', '并发', '开发', '开源', '快速', '思维', '性能', '意识', '扎实', '技术', '抗压', '操作系统', '敏感', '数学', '数据', '数据分析', '数据处理', '数据库', '数据结构', '方法', '服务', '本科', '机器学习', '架构', '框架', '每周', '沟通', '流程', '测试', '游戏', '热情', '热爱', '熟练掌握', '独立', '环境', '理解', '知识', '研发', '积极主动', '算法', '管理', '精神', '精通', '系统', '经历', '编码', '编程', '编程语言', '网络', '背景', '能力', '自我', '行业', '解决', '计算机', '计算机相关', '设计', '语言', '负责', '责任心', '软件', '运营', '逻辑', '逻辑思维', '项目', '领域', '驱动']\n",
      "{'专业': 10, '积极主动': 71, '责任心': 92, '沟通': 59, '能力': 83, '抗压': 43, '实习': 31, '每周': 58, '本科': 54, '办公': 21, '软件': 93, '领域': 98, '逻辑思维': 96, '团队': 27, '协作': 23, '功底': 22, '工具': 32, '善于': 26, '协调': 24, '快速': 37, '环境': 67, '分析': 19, '计算机': 87, '精神': 74, '项目': 97, '服务': 53, '意识': 40, '热爱': 64, '自我': 84, '公司': 17, '热情': 63, '互联网': 13, '产品': 14, '技术': 42, '行业': 85, '研发': 70, '管理': 73, '数据': 47, '逻辑': 95, '精通': 75, '系统': 76, '运营': 94, '语言': 90, '思维': 38, '游戏': 62, '知识': 69, '经历': 77, '负责': 91, '设计': 89, '基础': 28, '背景': 82, '理解': 68, '数据分析': 48, '独立': 66, '扎实': 41, '架构': 56, '方法': 52, '专业本科': 11, '驱动': 99, '数学': 46, '开发': 35, '机器学习': 55, '敏感': 45, '优化': 16, '熟练掌握': 65, 'python': 6, 'sql': 7, '解决': 86, '测试': 61, '计算机相关': 88, 'mysql': 5, '数据处理': 49, '常见': 33, '流程': 60, '算法': 72, '大数据': 30, '原理': 25, '前端': 20, '主流': 12, '数据库': 50, 'linux': 4, '网络': 81, 'web': 8, '性能': 39, '框架': 57, 'go': 2, 'java': 3, '代码': 15, '编程': 79, '数据结构': 51, '开源': 36, '一门': 9, '编程语言': 80, '并发': 34, '编码': 78, '操作系统': 44, 'android': 0, '分布式': 18, 'cc': 1, '多线程': 29}\n"
     ]
    }
   ],
   "source": [
    "from sklearn.feature_extraction.text import CountVectorizer\n",
    "import pandas as pd\n",
    "\n",
    "stopwords = pd.read_csv('stoplist.txt',encoding='utf-8',sep='haha',header=None,engine='python')\n",
    "count_vec = CountVectorizer(max_df=5000,min_df=2,max_features=100)\n",
    "sparse_result_count = count_vec.fit_transform(sum_List)\n",
    "# 输出稀疏矩阵\n",
    "# print(sparse_result_count)\n",
    "# 输出关键词\n",
    "print(count_vec.get_feature_names())\n",
    "# 输出关键词编号\n",
    "print(count_vec.vocabulary_)"
   ]
  },
  {
   "cell_type": "markdown",
   "id": "visible-partner",
   "metadata": {},
   "source": [
    "使用TfidfVectorizer提取词频矩阵"
   ]
  },
  {
   "cell_type": "code",
   "execution_count": 14,
   "id": "abandoned-moment",
   "metadata": {},
   "outputs": [
    {
     "name": "stdout",
     "output_type": "stream",
     "text": [
      "  (7, 0)\t0.07041727424428985\n",
      "  (9, 0)\t0.03267891589039315\n",
      "  (11, 0)\t0.037864112800857955\n",
      "  (13, 0)\t0.22955975450220872\n",
      "  (15, 0)\t0.02607859842861075\n",
      "  (17, 0)\t0.03157433611071929\n",
      "  (25, 0)\t0.01487900334623874\n",
      "  (26, 0)\t0.008539414758089356\n",
      "  (29, 0)\t0.02451603727720365\n",
      "  (30, 0)\t0.01670070776268125\n",
      "  (32, 0)\t0.003612516249555401\n",
      "  (34, 0)\t0.0010374854127877724\n",
      "  (38, 0)\t0.02019351034007727\n",
      "['android', 'cc', 'css', 'es', 'go', 'hive', 'html', 'ios', 'java', 'js', 'kafka', 'linux', 'mysql', 'php', 'python', 'react', 'redis', 'shell', 'sql', 'vue', 'web', '一年', '一门', '专业', '专业本科', '严谨', '主动', '主流', '习惯', '互联网', '产品', '代码', '企业', '优化', '体系', '体验', '公司', '关注', '兴趣', '分布式', '分布式系统', '分析', '分项', '创新', '前端', '办公', '功底', '协作', '协议', '协调', '压力', '原理', '发展', '善于', '喜欢', '团队', '场景', '培训', '基础', '基础知识', '多线程', '大数据', '大规模', '好奇心', '媒体', '存储', '实习', '实践', '客户', '工具', '工程', '市场', '常见', '并发', '广告', '建模', '开发', '开源', '快速', '思维', '思考', '性能', '意识', '扎实', '执行', '执行力', '技术', '抗压', '挑战', '推动', '推荐', '提供', '擅长', '操作', '操作系统', '敏感', '数学', '数据', '数据仓库', '数据分析', '数据处理', '数据库', '数据挖掘', '数据结构', '文档', '方向', '方案', '方法', '有过', '服务', '服务端', '本科', '机制', '机器学习', '架构', '框架', '模型', '每周', '毕业', '沟通', '活动', '流程', '测试', '深度学习', '清晰', '游戏', '热情', '热爱', '熟练掌握', '独立', '环境', '理解', '理论', '电商', '目标', '知识', '研发', '研究', '硕士', '社区', '福利', '积极主动', '策划', '算法', '管理', '精神', '精通', '系统', '组件', '经历', '统招', '统计', '统计学', '缓存', '编写', '编码', '编程', '编程语言', '网络', '耐心', '背景', '能力', '脚本语言', '自动化', '自我', '英文', '英语', '营销', '落地', '行业', '表达能力', '规划', '规范', '视频', '解决', '计算机', '计算机相关', '设计', '设计模式', '语言', '调优', '负责', '责任心', '责任感', '质量', '踏实', '软件', '运维', '运营', '追求', '通信', '逻辑', '逻辑思维', '销售', '队列', '限于', '项目', '项目管理', '领域', '驱动']\n",
      "{'毕业': 118, '专业': 23, '积极主动': 141, '责任心': 182, '踏实': 185, '沟通': 119, '能力': 161, '抗压': 87, '实习': 66, '每周': 117, '本科': 111, '办公': 45, '软件': 186, '领域': 198, '兴趣': 38, '逻辑思维': 192, '发展': 52, '团队': 55, '协作': 47, '压力': 50, '功底': 46, '工具': 69, '善于': 53, '协调': 49, '快速': 78, '环境': 130, '主动': 26, '分析': 41, '计算机': 175, '表达能力': 170, '精神': 145, '项目': 196, '执行': 84, '服务': 109, '意识': 82, '热爱': 127, '自我': 164, '耐心': 159, '公司': 36, '福利': 140, '活动': 120, '清晰': 124, '推动': 89, '热情': 126, '互联网': 29, '喜欢': 54, '擅长': 92, '产品': 30, '技术': 86, '提供': 91, '行业': 169, '研发': 136, '管理': 144, '数据': 97, '逻辑': 191, '严谨': 25, '操作': 93, '执行力': 85, '精通': 146, '英语': 166, '硕士': 138, '系统': 147, '运营': 188, '语言': 179, '统招': 150, '思维': 79, '好奇心': 63, '企业': 32, '游戏': 125, '知识': 135, '客户': 68, '责任感': 183, '有过': 108, '经历': 149, '落地': 168, '负责': 181, '培训': 57, '方向': 105, '文档': 104, '规划': 171, '思考': 80, '设计': 177, '基础': 58, '背景': 160, '媒体': 64, '市场': 71, '策划': 142, '追求': 189, '英文': 165, '理解': 131, '分项': 42, '数据分析': 99, '推荐': 90, '独立': 129, '扎实': 83, '架构': 114, '创新': 43, '方法': 107, '项目管理': 197, '关注': 37, '体验': 35, '挑战': 88, '专业本科': 24, '驱动': 199, '编写': 154, '统计': 151, '数学': 96, '开发': 76, '机制': 112, '广告': 74, '机器学习': 113, '建模': 75, '敏感': 95, '研究': 137, '优化': 33, '营销': 167, '电商': 133, '限于': 195, '熟练掌握': 128, 'python': 14, '社区': 139, 'sql': 18, '数据挖掘': 102, '目标': 134, '解决': 174, '测试': 122, '实践': 67, '服务端': 110, '体系': 34, '计算机相关': 176, '统计学': 152, '规范': 172, 'mysql': 12, '数据处理': 100, '常见': 72, '运维': 187, '流程': 121, '场景': 56, '方案': 106, '算法': 143, '视频': 173, '大数据': 61, 'hive': 5, '模型': 116, '原理': 51, '组件': 148, '存储': 65, '队列': 194, '销售': 193, '一年': 21, '工程': 70, '习惯': 28, '前端': 44, '通信': 190, '主流': 27, '数据库': 101, 'redis': 16, 'linux': 11, 'shell': 17, '网络': 158, 'web': 20, '基础知识': 59, '理论': 132, '质量': 184, '性能': 81, '框架': 115, '数据仓库': 98, 'go': 4, 'html': 6, 'css': 2, 'vue': 19, 'java': 8, '代码': 31, 'es': 3, '协议': 48, 'react': 15, '编程': 156, 'js': 9, '数据结构': 103, '设计模式': 178, '开源': 77, '一门': 22, '编程语言': 157, 'ios': 7, '缓存': 153, '大规模': 62, '并发': 73, '调优': 180, '编码': 155, 'php': 13, '自动化': 163, '操作系统': 94, 'android': 0, '分布式': 39, 'cc': 1, '脚本语言': 162, '多线程': 60, '分布式系统': 40, 'kafka': 10, '深度学习': 123}\n"
     ]
    }
   ],
   "source": [
    "from sklearn.feature_extraction.text import TfidfVectorizer\n",
    "\n",
    "# 建立TfidfVectorizer模型\n",
    "tfidf_vec = TfidfVectorizer(min_df=5,max_df=5000,max_features=200)\n",
    "# 计算tfidf矩阵\n",
    "sparse_result_tfidf = tfidf_vec.fit_transform(sum_List)\n",
    "# 输出稀疏矩阵\n",
    "print(sparse_result_tfidf[:,3])\n",
    "# 输出关键词\n",
    "print(tfidf_vec.get_feature_names())\n",
    "# 输出关键词编号\n",
    "print(tfidf_vec.vocabulary_)"
   ]
  },
  {
   "cell_type": "markdown",
   "id": "premier-spanking",
   "metadata": {},
   "source": [
    "# 相似性推荐"
   ]
  },
  {
   "cell_type": "markdown",
   "id": "existing-client",
   "metadata": {},
   "source": [
    "## 基于岗位职责的相似性推荐"
   ]
  },
  {
   "cell_type": "code",
   "execution_count": 15,
   "id": "conditional-double",
   "metadata": {},
   "outputs": [
    {
     "data": {
      "text/html": [
       "<div>\n",
       "<style scoped>\n",
       "    .dataframe tbody tr th:only-of-type {\n",
       "        vertical-align: middle;\n",
       "    }\n",
       "\n",
       "    .dataframe tbody tr th {\n",
       "        vertical-align: top;\n",
       "    }\n",
       "\n",
       "    .dataframe thead th {\n",
       "        text-align: right;\n",
       "    }\n",
       "</style>\n",
       "<table border=\"1\" class=\"dataframe\">\n",
       "  <thead>\n",
       "    <tr style=\"text-align: right;\">\n",
       "      <th></th>\n",
       "      <th>岗位名称</th>\n",
       "      <th>岗位职责_stop</th>\n",
       "    </tr>\n",
       "  </thead>\n",
       "  <tbody>\n",
       "    <tr>\n",
       "      <th>936</th>\n",
       "      <td>数据研发工程师-【电商生态】</td>\n",
       "      <td>负责 手电 商 数据仓库 构建 垂直 数据 集市 负责 手电 商新 产品 数据 统计 报表 ...</td>\n",
       "    </tr>\n",
       "  </tbody>\n",
       "</table>\n",
       "</div>"
      ],
      "text/plain": [
       "               岗位名称                                          岗位职责_stop\n",
       "936  数据研发工程师-【电商生态】  负责 手电 商 数据仓库 构建 垂直 数据 集市 负责 手电 商新 产品 数据 统计 报表 ..."
      ]
     },
     "execution_count": 15,
     "metadata": {},
     "output_type": "execute_result"
    }
   ],
   "source": [
    "a1 = data_process[data_process['label']=='数据'][1:2][['岗位名称','岗位职责_stop']]\n",
    "gangweizhize = data_process[data_process['label']=='数据'][1:2]['岗位职责_stop']\n",
    "a1"
   ]
  },
  {
   "cell_type": "code",
   "execution_count": 16,
   "id": "collect-train",
   "metadata": {},
   "outputs": [
    {
     "name": "stdout",
     "output_type": "stream",
     "text": [
      "  (0, 4)\t0.11785113019775793\n",
      "  (0, 3)\t0.11785113019775793\n",
      "  (0, 17)\t0.11785113019775793\n",
      "  (0, 28)\t0.11785113019775793\n",
      "  (0, 31)\t0.11785113019775793\n",
      "  (0, 9)\t0.11785113019775793\n",
      "  (0, 22)\t0.11785113019775793\n",
      "  (0, 2)\t0.11785113019775793\n",
      "  (0, 19)\t0.11785113019775793\n",
      "  (0, 12)\t0.11785113019775793\n",
      "  (0, 10)\t0.11785113019775793\n",
      "  (0, 21)\t0.11785113019775793\n",
      "  (0, 13)\t0.11785113019775793\n",
      "  (0, 20)\t0.11785113019775793\n",
      "  (0, 27)\t0.11785113019775793\n",
      "  (0, 14)\t0.11785113019775793\n",
      "  (0, 11)\t0.11785113019775793\n",
      "  (0, 6)\t0.11785113019775793\n",
      "  (0, 5)\t0.11785113019775793\n",
      "  (0, 15)\t0.11785113019775793\n",
      "  (0, 29)\t0.11785113019775793\n",
      "  (0, 23)\t0.11785113019775793\n",
      "  (0, 0)\t0.11785113019775793\n",
      "  (0, 18)\t0.11785113019775793\n",
      "  (0, 30)\t0.11785113019775793\n",
      "  (0, 1)\t0.11785113019775793\n",
      "  (0, 7)\t0.11785113019775793\n",
      "  (0, 33)\t0.11785113019775793\n",
      "  (0, 24)\t0.5892556509887896\n",
      "  (0, 8)\t0.23570226039551587\n",
      "  (0, 26)\t0.11785113019775793\n",
      "  (0, 25)\t0.11785113019775793\n",
      "  (0, 16)\t0.23570226039551587\n",
      "  (0, 32)\t0.3535533905932738\n",
      "['产出', '产品', '优化', '体系', '保障', '分析', '商务', '商新', '垂直', '埋点', '大数据', '定义', '应用服务', '建模', '开发', '归因', '手电', '技术', '报表', '持续', '指标', '提供', '改进', '效果', '数据', '数据仓库', '构建', '核心', '流程', '监测', '统计', '设计', '负责', '集市']\n",
      "{'负责': 32, '手电': 16, '数据仓库': 25, '构建': 26, '垂直': 8, '数据': 24, '集市': 33, '商新': 7, '产品': 1, '统计': 30, '报表': 18, '产出': 0, '效果': 23, '监测': 29, '归因': 15, '分析': 5, '商务': 6, '定义': 11, '开发': 14, '核心': 27, '指标': 20, '建模': 13, '提供': 21, '大数据': 10, '应用服务': 12, '持续': 19, '优化': 2, '改进': 22, '埋点': 9, '设计': 31, '流程': 28, '技术': 17, '体系': 3, '保障': 4}\n"
     ]
    }
   ],
   "source": [
    "from sklearn.feature_extraction.text import TfidfVectorizer,TfidfTransformer\n",
    "\n",
    "# 建立TfidfVectorizer模型\n",
    "tfidf_vec = TfidfVectorizer(min_df=1,max_df=5000,max_features=200)\n",
    "# 计算tfidf矩阵\n",
    "sparse_result_tfidf = tfidf_vec.fit_transform(gangweizhize)\n",
    "# 输出稀疏矩阵\n",
    "print(sparse_result_tfidf)\n",
    "# 输出关键词\n",
    "print(tfidf_vec.get_feature_names())\n",
    "# 输出关键词编号\n",
    "print(tfidf_vec.vocabulary_)"
   ]
  },
  {
   "cell_type": "code",
   "execution_count": 17,
   "id": "accredited-ribbon",
   "metadata": {},
   "outputs": [],
   "source": [
    "# 文本特征提取模块，CountVectorizer词频统计，TfidfTransformer把词频结果转化为TF-IDF类\n",
    "from sklearn.feature_extraction.text import CountVectorizer, TfidfTransformer   \n",
    "countVectorizer = CountVectorizer()\n",
    "data_tr = countVectorizer.fit_transform(data_process['岗位职责_stop'])  # 装换为权值向量\n",
    "# 获得训练集对象的TF-IDF权值\n",
    "X_tr = TfidfTransformer().fit_transform(data_tr.toarray()).toarray()"
   ]
  },
  {
   "cell_type": "code",
   "execution_count": 18,
   "id": "naked-wrapping",
   "metadata": {},
   "outputs": [
    {
     "data": {
      "text/plain": [
       "(3849, 8168)"
      ]
     },
     "execution_count": 18,
     "metadata": {},
     "output_type": "execute_result"
    }
   ],
   "source": [
    "X_tr.shape"
   ]
  },
  {
   "cell_type": "code",
   "execution_count": 19,
   "id": "reasonable-exclusion",
   "metadata": {},
   "outputs": [
    {
     "name": "stdout",
     "output_type": "stream",
     "text": [
      "[(3, 1.0), (665, 1.0), (666, 1.0), (3717, 1.0), (3718, 1.0)]\n"
     ]
    }
   ],
   "source": [
    "# 计算两个向量之间的余弦相似度\n",
    "import numpy as np\n",
    "def cos_sin(vector_a , vector_b):\n",
    "    vector_a = np.mat(vector_a)\n",
    "    vector_b = np.mat(vector_b)\n",
    "    num = float(vector_a * vector_b.T)\n",
    "    denom = np.linalg.norm(vector_a) * np.linalg.norm(vector_b)\n",
    "    cos = num / denom\n",
    "    sim = 0.5 + 0.5 * cos\n",
    "    return sim\n",
    "\n",
    "a_dict = {}\n",
    "n = 0\n",
    "k = 2\n",
    "for i in range(len(X_tr)):\n",
    "    if i != k:\n",
    "        a_dict[n] = cos_sin(X_tr[k],X_tr[i])\n",
    "        n += 1\n",
    "L = sorted(a_dict.items(),key=lambda item:item[1],reverse=True)\n",
    "L = L[:5]\n",
    "print(L)"
   ]
  },
  {
   "cell_type": "code",
   "execution_count": 20,
   "id": "straight-jumping",
   "metadata": {},
   "outputs": [
    {
     "data": {
      "text/plain": [
       "[(3, 1.0),\n",
       " (665, 1.0),\n",
       " (666, 1.0),\n",
       " (3717, 1.0),\n",
       " (3718, 1.0),\n",
       " (183, 0.6812860155598801),\n",
       " (860, 0.6812860155598801),\n",
       " (254, 0.6711570949130182),\n",
       " (272, 0.6656028304175245),\n",
       " (10, 0.6592087331311531)]"
      ]
     },
     "execution_count": 20,
     "metadata": {},
     "output_type": "execute_result"
    }
   ],
   "source": [
    "L = sorted(a_dict.items(),key=lambda item:item[1],reverse=True)  # 排序\n",
    "L[:10]"
   ]
  },
  {
   "cell_type": "code",
   "execution_count": 21,
   "id": "executive-thanksgiving",
   "metadata": {},
   "outputs": [
    {
     "name": "stdout",
     "output_type": "stream",
     "text": [
      "3\n",
      "岗位名称                                                      产品运营\n",
      "地点                                                         未公布\n",
      "工资                                                    ¥10K-40K\n",
      "岗位职责         \\n\\n1.功能运营方向：负责产品重要功能模块的上线运营，与产品部门配合，定位功能模块问题与...\n",
      "岗位要求         \\n\\n1.重点本科及以上学历，毕业5年内，理工科专业背景；\\n\\n2.有toB软件运营/产...\n",
      "label                                                       运营\n",
      "岗位职责_cut     [功能, 运营, 方向, 负责, 产品, 重要, 功能模块, 的, 上线, 运营, 与, 产...\n",
      "岗位要求_cut     [重点, 本科, 及, 以上学历, 毕业, 年内, 理工科, 专业, 背景, 有, toB,...\n",
      "岗位职责_stop    功能 运营 方向 负责 产品 功能模块 上线 运营 产品 部门 配合 定位 功能模块 提高 ...\n",
      "岗位要求_stop    重点 本科 毕业 年内 理工科 专业 背景 toB 软件 运营 产品 经理 实习 toB 项...\n",
      "Name: 3, dtype: object\n",
      "665\n",
      "岗位名称                                                      产品运营\n",
      "地点                                                          南京\n",
      "工资                                                       ¥薪酬面议\n",
      "岗位职责         \\n\\n1.功能运营方向：负责产品重要功能模块的上线运营，与产品部门配合，定位功能模块问题与...\n",
      "岗位要求         \\n1、重点院校本科及以上，理工科专业背景； 2、做事有激情，有强烈的主动性，强大的逻辑思维...\n",
      "label                                                       运营\n",
      "岗位职责_cut     [功能, 运营, 方向, 负责, 产品, 重要, 功能模块, 的, 上线, 运营, 与, 产...\n",
      "岗位要求_cut     [重点, 院校, 本科, 及, 以上, 理工科, 专业, 背景, 做事, 有, 激情, 有,...\n",
      "岗位职责_stop    功能 运营 方向 负责 产品 功能模块 上线 运营 产品 部门 配合 定位 功能模块 提高 ...\n",
      "岗位要求_stop    重点 院校 本科 理工科 专业 背景 做事 激情 主动性 强大 逻辑思维 能力 独立自主 达...\n",
      "Name: 665, dtype: object\n",
      "666\n",
      "岗位名称                                                    产品推广运营\n",
      "地点                                                       ¥薪酬面议\n",
      "工资                                                    ¥10K-30K\n",
      "岗位职责         \\n\\n1、根据产品增长计划，参与产品推广策略的制定，全程跟进方案的落地执行，直接对推广结果...\n",
      "岗位要求         \\n\\n1、重点本科院校，专业不限，理工科优先；\\n\\n2、良好的文笔基础和审美能力，能快准...\n",
      "label                                                       运营\n",
      "岗位职责_cut     [根据, 产品, 增长, 计划, 参与, 产品, 推广, 策略, 的, 制定, 全程, 跟进...\n",
      "岗位要求_cut     [重点, 本科, 院校, 专业, 不, 限, 理工科, 优先, 良好, 的, 文笔, 基础,...\n",
      "岗位职责_stop    产品 增长 计划 产品 推广 策略 全程 方案 落地 执行 推广 负责 持续 监测 推广 效...\n",
      "岗位要求_stop    重点 本科 院校 专业 理工科 文笔 基础 审美 能力 能快 准狠 洞察 痛点 输出 优质 ...\n",
      "Name: 666, dtype: object\n"
     ]
    }
   ],
   "source": [
    "for i in range(3):   # 查看相似性最高的5个岗位\n",
    "    print(L[i][0])\n",
    "    a = int(L[i][0])\n",
    "    print(data_process.iloc[a])"
   ]
  },
  {
   "cell_type": "code",
   "execution_count": 22,
   "id": "green-strand",
   "metadata": {},
   "outputs": [
    {
     "data": {
      "text/plain": [
       "岗位名称                                             【急招】算法工程师-需求大\n",
       "地点                                                         未公布\n",
       "工资                                                    ¥20K-40K\n",
       "岗位职责         \\n\\n岗位描述：\\n\\n1、熟练掌握各种主流机器学习算法的基础上，分析不同的客户业务需求，...\n",
       "岗位要求         \\n\\n：\\n\\n1、拥有计算机科学、统计或相关学科学位，或在大数据领域有工作经验；\\n\\n...\n",
       "label                                                       数据\n",
       "岗位职责_cut     [岗位, 描述, 熟练掌握, 各种, 主流, 机器学习, 算法, 的, 基础, 上, 分析,...\n",
       "岗位要求_cut     [拥有, 计算机科学, 统计, 或, 相关, 学科, 学位, 或, 在, 大数据, 领域, ...\n",
       "岗位职责_stop    描述 熟练掌握 主流 机器学习 算法 基础 分析 客户 场景 寻找 构建 行业 解决方案 业...\n",
       "岗位要求_stop    计算机科学 统计 学科 学位 大数据 领域 机器学习 领域 研发 项目 落地 沟通 能力 团...\n",
       "Name: 1300, dtype: object"
      ]
     },
     "execution_count": 22,
     "metadata": {},
     "output_type": "execute_result"
    }
   ],
   "source": [
    "data_process.iloc[1300]"
   ]
  },
  {
   "cell_type": "markdown",
   "id": "killing-clinton",
   "metadata": {},
   "source": [
    "### 集成"
   ]
  },
  {
   "cell_type": "code",
   "execution_count": 23,
   "id": "secret-trinidad",
   "metadata": {},
   "outputs": [],
   "source": [
    "import numpy as np\n",
    "base_duty = data_process['岗位职责_stop']\n",
    "\n",
    "from sklearn.feature_extraction.text import TfidfVectorizer,TfidfTransformer\n",
    "# 建立TfidfVectorizer模型\n",
    "tfidf_vec = TfidfVectorizer(min_df=1,max_df=5000,max_features=200)\n",
    "# 计算tfidf矩阵\n",
    "sparse_result_tfidf = tfidf_vec.fit_transform(base_duty)\n",
    "\n",
    "# 文本特征提取模块，CountVectorizer词频统计，TfidfTransformer把词频结果转化为TF-IDF类\n",
    "from sklearn.feature_extraction.text import CountVectorizer, TfidfTransformer   \n",
    "countVectorizer = CountVectorizer()\n",
    "data_tr = countVectorizer.fit_transform(data_process['岗位职责_stop'])  # 装换为权值向量\n",
    "# 获得训练集对象的TF-IDF权值\n",
    "X_tr = TfidfTransformer().fit_transform(data_tr.toarray()).toarray()\n",
    "\n",
    "# 计算两个向量之间的余弦相似度\n",
    "def cos_sin(vector_a , vector_b):\n",
    "    vector_a = np.mat(vector_a)\n",
    "    vector_b = np.mat(vector_b)\n",
    "    num = float(vector_a * vector_b.T)\n",
    "    denom = np.linalg.norm(vector_a) * np.linalg.norm(vector_b)\n",
    "    cos = num / denom\n",
    "    sim = 0.5 + 0.5 * cos\n",
    "    return sim"
   ]
  },
  {
   "cell_type": "code",
   "execution_count": 24,
   "id": "velvet-highway",
   "metadata": {},
   "outputs": [
    {
     "name": "stdout",
     "output_type": "stream",
     "text": [
      "请输入你喜欢的一类岗位：数据挖掘\n",
      "---------------------------------------------------------------------------\n",
      "                     岗位名称        地点          工资  \\\n",
      "950       【急招】数据挖掘工程师-需求大       未公布    ¥18K-35K   \n",
      "960               数据挖掘工程师       未公布    ¥10K-25K   \n",
      "1027           数据挖掘工程师—深圳       未公布    ¥25K-60K   \n",
      "1029              数据挖掘及分析       未公布    ¥11K-20K   \n",
      "1035              数据挖掘工程师       未公布    ¥10K-25K   \n",
      "...                   ...       ...         ...   \n",
      "3267         数据挖掘算法工程师-电商  北京,上海,杭州       ¥薪资面议   \n",
      "3368      安全数据挖掘工程师-大数据方向       未公布  ¥180K-300K   \n",
      "3369            安全数据挖掘工程师       未公布  ¥180K-300K   \n",
      "3370  高级服务器开发工程师-安全数据挖掘方向       未公布  ¥180K-300K   \n",
      "3839      数据挖掘工程师 -【电商风控】        北京         51K   \n",
      "\n",
      "                                                   岗位职责  \\\n",
      "950   \\n\\n1、从数据中探寻并发现业务规律，并主动与客户沟通，提炼场景，为算法工程师提供业务经验...   \n",
      "960   \\n\\n1.基于人体生理健康、医疗、活动数据的研究探索\\n\\n2.基于智能穿戴或传感器数据的...   \n",
      "1027  \\n\\n1、负责头条系产品的数据挖掘、分析以及策略工作；\\n\\n2、深入理解头条系的某一个业...   \n",
      "1029  \\n\\n工作内容：\\n\\n1.负责C端APP用户行为分析及画像；\\n\\n2.参与知识图谱搭建...   \n",
      "1035  \\n\\n1. 人体健康大数据分析及可视化展示；\\n\\n2. 利用多维数据进行数据处理和挖掘，...   \n",
      "...                                                 ...   \n",
      "3267  1、参与抖音全球电商动态定价系统设计和搭建，运用机器学习相关技术，对海量数据进行处理和分析，...   \n",
      "3368  - 负责信息安全相关的数据挖掘技术的研发工作，以及相关算法的应用与优化；- 运用各类分析方法...   \n",
      "3369  - 负责信息安全相关的数据挖掘技术的研发工作，以及相关算法的应用与优化；- 运用各类分析方法...   \n",
      "3370  1、负责风险事件大数据挖掘分析服务器集群开发；2、协助安全业务运营工作，处理安全应急事件，进...   \n",
      "3839  1、负责快手电商业务风控的数据挖掘；2、独立负责电商某个场景的作弊风险，设计合理的数据埋点体...   \n",
      "\n",
      "                                                   岗位要求  \n",
      "950   \\n\\n1、拥有计算机科学、统计或相关学科学位，或在大数据领域有工作经验；\\n\\n2、熟练使...  \n",
      "960   \\n\\n1.计算机、数据科学、信息学、通信、数理统计等专业本科以上学历\\n\\n2.熟练掌握P...  \n",
      "1027  \\n\\n1、具有优秀的逻辑思维、沟通表达和快速学习能力，计算机/统计/数学/NLP等相关专业...  \n",
      "1029  \\n\\n任职要求：\\n\\n1.统招本科及以上学历，统计、数学、计量经济、数据挖掘、精算、计算...  \n",
      "1035  \\n\\n1. 计算机、数学统计、信息学等专业本科以上学历；\\n\\n2. 熟悉常用深度学习、机...  \n",
      "...                                                 ...  \n",
      "3267  1、熟悉统计机器学习理论，熟悉常见分类、聚类机器学习和深度学习算法；2、具备数据挖掘、NLP...  \n",
      "3368  - 3 年以上大数据编程经历；精通 Hadoop、Hive、Spark、Storm 等工具；...  \n",
      "3369  - 优先有互联网信息安全相关工作经验（含学术界经验）的候选人，对信息安全工作的挑战与业务建模...  \n",
      "3370  1、计算机及相关专业背景，3年以上相关工作经验，具备大中型企业基础防线安全产品研发经验；2、...  \n",
      "3839  1、3年及以上大数据挖掘和机器学习经验；2、计算机、数学等相关专业本科及以上学历；3、熟练使...  \n",
      "\n",
      "[90 rows x 5 columns]\n",
      "---------------------------------------------------------------------------\n",
      "请输入你想了解的岗位序号：1029\n",
      "岗位名称                                              数据挖掘及分析\n",
      "地点                                                    未公布\n",
      "工资                                               ¥11K-20K\n",
      "岗位职责    \\n\\n工作内容：\\n\\n1.负责C端APP用户行为分析及画像；\\n\\n2.参与知识图谱搭建...\n",
      "岗位要求    \\n\\n任职要求：\\n\\n1.统招本科及以上学历，统计、数学、计量经济、数据挖掘、精算、计算...\n",
      "Name: 1029, dtype: object\n",
      "---------------------------------------------------------------------------\n",
      "是否需要推荐岗位职责相关工作？请输入yes或者no：yes\n",
      "1029\t岗位名称                                              数据挖掘及分析\n",
      "地点                                                    未公布\n",
      "工资                                               ¥11K-20K\n",
      "岗位职责    \\n\\n工作内容：\\n\\n1.负责C端APP用户行为分析及画像；\\n\\n2.参与知识图谱搭建...\n",
      "岗位要求    \\n\\n任职要求：\\n\\n1.统招本科及以上学历，统计、数学、计量经济、数据挖掘、精算、计算...\n",
      "Name: 1029, dtype: object\n",
      "岗位相似度： 1.0\n",
      "1074\t岗位名称                                       蚂蚁集团-图谱数据及计算研发\n",
      "地点                                                    未公布\n",
      "工资                                               ¥25K-55K\n",
      "岗位职责    \\n\\n1、面向金融图谱业务，负责异构图管理及演化、专家知识沉淀的图谱构建系统的搭建;\\n\\...\n",
      "岗位要求    \\n\\n1、有丰富的Java/C/C++开发经验，熟悉多线程，网络，异步等系统编程，具有丰富...\n",
      "Name: 1074, dtype: object\n",
      "岗位相似度： 0.6408595313688612\n",
      "978\t岗位名称                                          风控数据科学家【社招】\n",
      "地点                                                    未公布\n",
      "工资                                                  ¥薪资面议\n",
      "岗位职责    \\n\\n1.负责内外部数据分析和应用，负责相关特征工程的建设；\\n\\n2.参与风险及用户画像...\n",
      "岗位要求    \\n\\n1.有金融行业公司数据分析和建模背景，对于互联网金融数据分析和建模有相关经验者优先；...\n",
      "Name: 978, dtype: object\n",
      "岗位相似度： 0.6009934034982781\n",
      "1556\t岗位名称                                              数据挖掘实习生\n",
      "地点                                                    未公布\n",
      "工资                                            ¥400-500元/天\n",
      "岗位职责    \\n\\n1、负责今日头条/抖音等字节跳动核心产品的账户数据统计、数据分析工作；\\n\\n2、梳...\n",
      "岗位要求    \\n\\n1、计算机/统计/数学/NLP等相关专业。\\n\\n2、扎实的算法和结构基础，熟悉至少...\n",
      "Name: 1556, dtype: object\n",
      "岗位相似度： 0.5979640179712786\n",
      "1716\t岗位名称                                     【急招】数据挖掘实习生【可转正】\n",
      "地点                                                    未公布\n",
      "工资                                            ¥400-500元/天\n",
      "岗位职责    \\n\\n1、负责今日头条/抖音等字节跳动核心产品的账户数据统计、数据分析工作；\\n\\n2、梳...\n",
      "岗位要求    \\n\\n1、计算机/统计/数学/NLP等相关专业。\\n\\n2、扎实的算法和结构基础，熟悉至少...\n",
      "Name: 1716, dtype: object\n",
      "岗位相似度： 0.5979640179712786\n",
      "---------------------------------------------------------------------------\n",
      "是否继续查询，请输入yes或者no：no\n"
     ]
    }
   ],
   "source": [
    "while True:\n",
    "    n = input('请输入你喜欢的一类岗位：')\n",
    "    print('---------------------------------------------------------------------------')\n",
    "    data = data_process[data_process['岗位名称'].str.contains(n)][['岗位名称','地点','工资','岗位职责','岗位要求']]\n",
    "    if len(data)>=1:\n",
    "        print(data)\n",
    "        data.to_excel('您喜欢的岗位数据.xlsx')\n",
    "        print('---------------------------------------------------------------------------')\n",
    "        m = input('请输入你想了解的岗位序号：')\n",
    "        print(data_process.loc[int(m),['岗位名称','地点','工资','岗位职责','岗位要求']])\n",
    "        data_process.loc[int(m),['岗位名称','地点','工资','岗位职责','岗位要求']].to_excel('您想了解的岗位数据.xlsx')\n",
    "        print('---------------------------------------------------------------------------')\n",
    "        k = input('是否需要推荐岗位职责相关工作？请输入yes或者no：')\n",
    "        a_dict = {}\n",
    "        if k =='yes':\n",
    "            n = 0\n",
    "            for i in range(len(X_tr)):\n",
    "                if i != m:\n",
    "                    a_dict[n] = cos_sin(X_tr[int(m)],X_tr[i])\n",
    "                    n += 1\n",
    "            L = sorted(a_dict.items(),key=lambda item:item[1],reverse=True)\n",
    "            data_frame = pd.DataFrame(columns=['岗位名称','地点','工资','岗位职责','岗位要求','相似度'])\n",
    "            for i in range(5):\n",
    "                print(L[i][0],end='\\t')\n",
    "                a = int(L[i][0])\n",
    "                print(data_process.iloc[a][['岗位名称','地点','工资','岗位职责','岗位要求']])\n",
    "                data_frame.loc[i] = data_process.iloc[a][['岗位名称','地点','工资','岗位职责','岗位要求']]\n",
    "                data_frame.loc[i][5] = L[i][1]\n",
    "\n",
    "                print('岗位相似度：',L[i][1])\n",
    "            data_frame.to_excel('相似岗位推荐.xlsx')\n",
    "        else:\n",
    "            pass\n",
    "        print('---------------------------------------------------------------------------')\n",
    "        o = input('是否继续查询，请输入yes或者no：')\n",
    "        if o == 'yes':\n",
    "            continue\n",
    "        else:\n",
    "            break\n",
    "    else:\n",
    "        print('---------------------------------------------------------------------------')\n",
    "        print('暂时无法查询您输入的工作岗位，请重新输入！')\n",
    "        continue"
   ]
  },
  {
   "cell_type": "markdown",
   "id": "photographic-flood",
   "metadata": {},
   "source": [
    "## 基于能力要求的相似性推荐"
   ]
  },
  {
   "cell_type": "code",
   "execution_count": 25,
   "id": "daily-county",
   "metadata": {},
   "outputs": [],
   "source": [
    "base_duty = data_process['岗位要求_stop']\n",
    "\n",
    "from sklearn.feature_extraction.text import TfidfVectorizer,TfidfTransformer\n",
    "# 建立TfidfVectorizer模型\n",
    "tfidf_vec = TfidfVectorizer(min_df=1,max_df=5000,max_features=200)\n",
    "# 计算tfidf矩阵\n",
    "sparse_result_tfidf = tfidf_vec.fit_transform(base_duty)\n",
    "\n",
    "# 文本特征提取模块，CountVectorizer词频统计，TfidfTransformer把词频结果转化为TF-IDF类\n",
    "from sklearn.feature_extraction.text import CountVectorizer, TfidfTransformer   \n",
    "countVectorizer = CountVectorizer()\n",
    "data_tr = countVectorizer.fit_transform(data_process['岗位要求_stop'])  # 装换为权值向量\n",
    "# 获得训练集对象的TF-IDF权值\n",
    "X_tr = TfidfTransformer().fit_transform(data_tr.toarray()).toarray()\n",
    "\n",
    "# 计算两个向量之间的余弦相似度\n",
    "def cos_sin(vector_a , vector_b):\n",
    "    vector_a = np.mat(vector_a)\n",
    "    vector_b = np.mat(vector_b)\n",
    "    num = float(vector_a * vector_b.T)\n",
    "    denom = np.linalg.norm(vector_a) * np.linalg.norm(vector_b)\n",
    "    cos = num / denom\n",
    "    sim = 0.5 + 0.5 * cos\n",
    "    return sim"
   ]
  },
  {
   "cell_type": "code",
   "execution_count": 26,
   "id": "brown-level",
   "metadata": {
    "scrolled": false
   },
   "outputs": [
    {
     "name": "stdout",
     "output_type": "stream",
     "text": [
      "请输入你喜欢的一类岗位：大数据工程师\n",
      "---------------------------------------------------------------------------\n",
      "                         岗位名称                                             地点  \\\n",
      "146   阿里云日志大数据（SLS）增长运营大数据工程师                                            未公布   \n",
      "962               大数据工程师-实时数仓                                            未公布   \n",
      "964           大数据工程师-实时数据仓库方向                                            未公布   \n",
      "989                    大数据工程师                                            未公布   \n",
      "1098                   大数据工程师                                            未公布   \n",
      "1101                   大数据工程师                                            未公布   \n",
      "1155                 高级大数据工程师                                            未公布   \n",
      "1186                 大数据工程师社招                                            未公布   \n",
      "1188               大数据工程师-需求大                                            未公布   \n",
      "1193                 字节大数据工程师                                            未公布   \n",
      "1259                   大数据工程师                                            未公布   \n",
      "1376                   大数据工程师                                            未公布   \n",
      "1421                   大数据工程师                                            未公布   \n",
      "1677              后端大数据工程师实习生                                            未公布   \n",
      "1732                 大数据工程师实习                                            未公布   \n",
      "2134                   大数据工程师  北京,上海,广州,深圳,杭州,南京,成都,厦门,武汉,西安,长沙,哈尔滨,合肥,长春,其他   \n",
      "2372  阿里云日志大数据（SLS）增长运营大数据工程师                                          上海,杭州   \n",
      "2622                   大数据工程师  北京,上海,广州,深圳,杭州,南京,成都,厦门,武汉,西安,长沙,哈尔滨,合肥,长春,其他   \n",
      "3181              大数据工程师-实时数仓                                    北京,上海,深圳,杭州   \n",
      "3184          大数据工程师-实时数据仓库方向                                       北京,上海,深圳   \n",
      "3433                   大数据工程师                                             深圳   \n",
      "3447                 高级大数据工程师                                             杭州   \n",
      "\n",
      "               工资                                               岗位职责  \\\n",
      "146         ¥薪资面议  \\n\\n1.负责SLS成本管家和用户增长场景的规划、技术选型和建设,包括但不限于数据存储、数...   \n",
      "962         ¥薪资面议  \\n\\n1.负责抖音短视频和电商业务的实时数据仓库的构建；\\n\\n2.负责实时指标计算的数据...   \n",
      "964         ¥薪资面议  \\n\\n1、负责电商业务的实时数据仓库的构建；\\n\\n2、负责实时指标计算的数据建模、架构设...   \n",
      "989         ¥薪资面议  \\n\\n1.结合团队内外对数据的需求，以及长期的易用性和扩展性，进行数据分层和表结构设计；\\...   \n",
      "1098        ¥薪资面议  \\n\\n1、大规模数据处理，提升广告算法大规模，流式数据处理能力和效率；\\n\\n2、优化广告...   \n",
      "1101        ¥薪资面议  \\n\\n1、为海量数据和大规模业务系统提供可靠的基础设施；\\n\\n2、优秀的数据挖掘分析处理...   \n",
      "1155        ¥薪资面议  \\n\\n1. 负责大数据系统的功能模块设计，编写设计文档；\\n\\n2. 负责大数据平台以及相...   \n",
      "1186        ¥薪资面议  \\n\\n1、为海量数据和大规模业务系统提供可靠的基础设施；\\n\\n2、优秀的数据挖掘分析处理...   \n",
      "1188        ¥薪资面议  \\n\\n1、为海量数据和大规模业务系统提供可靠的基础设施；\\n\\n2、参与数据接入、集成、优...   \n",
      "1193        ¥薪资面议  \\n\\n1、为海量数据和大规模业务系统提供可靠的基础设施；\\n\\n2、优秀的数据挖掘分析处理...   \n",
      "1259     ¥30K-50K  \\n\\n-设计实现大规模分布式计算平台，包括高吞吐的批量计算、高时效的流式计算、高效能的OL...   \n",
      "1376  ¥300-400元/天  \\n阿里巴巴国际站的数据分析、挖掘和管理。实习生岗位致力于培养新人，寻找具有潜力的同学。岗位...   \n",
      "1421  ¥300-400元/天  \\n\\n阿里巴巴国际站的数据分析、挖掘和管理。实习生岗位致力于培养新人，寻找具有潜力的同学。...   \n",
      "1677  ¥400-500元/天  \\n\\n1、负责公司广告大数据的离线和实时数据流；\\n\\n2、为公司广告策略产品提供大数据存...   \n",
      "1732  ¥400-500元/天  \\n\\n1、负责字节跳动旗下的所有产品线风控数据仓库架构设计、建模和OLAP开发；\\n\\n2...   \n",
      "2134        ¥薪资面议  1、为海量数据和大规模业务系统提供可靠的基础设施；2、优秀的数据挖掘分析处理能力；3、参与数...   \n",
      "2372        ¥薪资面议  1.负责SLS成本管家和用户增长场景的规划、技术选型和建设,包括但不限于数据存储、数据计算、...   \n",
      "2622        ¥薪资面议  1、大规模数据处理，提升广告算法大规模，流式数据处理能力和效率；2、优化广告算法模型的在线/...   \n",
      "3181        ¥薪资面议  1.负责抖音短视频和电商业务的实时数据仓库的构建；2.负责实时指标计算的数据建模、架构设计与...   \n",
      "3184        ¥薪资面议  1、负责电商业务的实时数据仓库的构建；2、负责实时指标计算的数据建模、架构设计与开发；3、负...   \n",
      "3433        ¥薪资面议  1.结合团队内外对数据的需求，以及长期的易用性和扩展性，进行数据分层和表结构设计；2.负责E...   \n",
      "3447        ¥薪资面议  1. 负责大数据系统的功能模块设计，编写设计文档；2. 负责大数据平台以及相关联系统的开发与...   \n",
      "\n",
      "                                                   岗位要求  \n",
      "146   \\n\\n1. 有三年以上开发经验，熟悉Java/Python/PHP/GO/LUA中至少一种...  \n",
      "962   \\n\\n1.具备扎实的Java语言基础；\\n\\n2.熟悉并行计算或者分布式计算原理，熟悉高并...  \n",
      "964   \\n\\n1、具备扎实的Java语言基础；\\n\\n2、熟悉并行计算或者分布式计算原理，熟悉高并...  \n",
      "989   \\n\\n1.本科及以上学历，3年以上大数据开发/运维相关经验；\\n\\n2.熟悉Hadoop、...  \n",
      "1098  \\n\\n1、优秀的编码与代码控制能力, 有扎实的数据结构和算法功底；\\n\\n2、了解数据处理...  \n",
      "1101  \\n\\n1、掌握分布式系统原理，对存储、计算、消息队列、集群管理中的一项或多项有深入的理解和...  \n",
      "1155  \\n\\n1. 全日制本科及以上学历，计算机科学与技术、软件工程等相关专业；\\n\\n2. 精通...  \n",
      "1186  \\n\\n1、掌握分布式系统原理，对存储、计算、消息队列、集群管理中的一项或多项有深入的理解和...  \n",
      "1188  \\n\\n1、本科及以上学历，计算机、统计学、数学等相关专业；\\n\\n2、有扎实的编程能力，有...  \n",
      "1193  \\n\\n1、掌握分布式系统原理，对存储、计算、消息队列、集群管理中的一项或多项有深入的理解和...  \n",
      "1259  \\n\\n-计算机或相关专业本科以上学历，3年以上分布式计算方面工作经验。\\n\\n-熟悉Had...  \n",
      "1376       \\n熟悉数据分析和数据挖掘、学习能力强，具备独立思考并解决问题的能力，对技术有探索的兴趣  \n",
      "1421  \\n\\n1、有一定的编程基础，熟悉C、C++、Java、Python一种或多种语言\\n\\n2...  \n",
      "1677  \\n\\n1、计算机相关专业，至少熟练Python，Java，C/C++等语言的一种；\\n\\n...  \n",
      "1732  \\n\\n1、熟悉Linux操作系统及开发环境；\\n\\n2、扎实的计算机软件基础知识：数据结构...  \n",
      "2134  1、掌握分布式系统原理，对存储、计算、消息队列、集群管理中的一项或多项有深入的理解和认识；2...  \n",
      "2372  1. 有三年以上开发经验，熟悉Java/Python/PHP/GO/LUA中至少一种开发语言...  \n",
      "2622  1、优秀的编码与代码控制能力, 有扎实的数据结构和算法功底；2、了解数据处理框架 e.g. ...  \n",
      "3181  1.具备扎实的Java语言基础；2.熟悉并行计算或者分布式计算原理，熟悉高并发、高稳定性、可...  \n",
      "3184  1、具备扎实的Java语言基础；2、熟悉并行计算或者分布式计算原理，熟悉高并发、高稳定性、可...  \n",
      "3433  1.本科及以上学历，3年以上大数据开发/运维相关经验；2.熟悉Hadoop、Hive、HBa...  \n",
      "3447  1. 全日制本科及以上学历，计算机科学与技术、软件工程等相关专业；2. 精通hadoop生态...  \n",
      "---------------------------------------------------------------------------\n",
      "请输入你想了解的岗位序号：962\n",
      "岗位名称                                          大数据工程师-实时数仓\n",
      "地点                                                    未公布\n",
      "工资                                                  ¥薪资面议\n",
      "岗位职责    \\n\\n1.负责抖音短视频和电商业务的实时数据仓库的构建；\\n\\n2.负责实时指标计算的数据...\n",
      "岗位要求    \\n\\n1.具备扎实的Java语言基础；\\n\\n2.熟悉并行计算或者分布式计算原理，熟悉高并...\n",
      "Name: 962, dtype: object\n",
      "---------------------------------------------------------------------------\n",
      "是否需要推荐岗位职责相关工作？请输入yes或者no：yes\n",
      "962\t岗位名称                                          大数据工程师-实时数仓\n",
      "地点                                                    未公布\n",
      "工资                                                  ¥薪资面议\n",
      "岗位职责    \\n\\n1.负责抖音短视频和电商业务的实时数据仓库的构建；\\n\\n2.负责实时指标计算的数据...\n",
      "岗位要求    \\n\\n1.具备扎实的Java语言基础；\\n\\n2.熟悉并行计算或者分布式计算原理，熟悉高并...\n",
      "Name: 962, dtype: object\n",
      "岗位相似度： 1.0\n",
      "964\t岗位名称                                      大数据工程师-实时数据仓库方向\n",
      "地点                                                    未公布\n",
      "工资                                                  ¥薪资面议\n",
      "岗位职责    \\n\\n1、负责电商业务的实时数据仓库的构建；\\n\\n2、负责实时指标计算的数据建模、架构设...\n",
      "岗位要求    \\n\\n1、具备扎实的Java语言基础；\\n\\n2、熟悉并行计算或者分布式计算原理，熟悉高并...\n",
      "Name: 964, dtype: object\n",
      "岗位相似度： 1.0\n",
      "3181\t岗位名称                                          大数据工程师-实时数仓\n",
      "地点                                            北京,上海,深圳,杭州\n",
      "工资                                                  ¥薪资面议\n",
      "岗位职责    1.负责抖音短视频和电商业务的实时数据仓库的构建；2.负责实时指标计算的数据建模、架构设计与...\n",
      "岗位要求    1.具备扎实的Java语言基础；2.熟悉并行计算或者分布式计算原理，熟悉高并发、高稳定性、可...\n",
      "Name: 3181, dtype: object\n",
      "岗位相似度： 1.0\n",
      "3184\t岗位名称                                      大数据工程师-实时数据仓库方向\n",
      "地点                                               北京,上海,深圳\n",
      "工资                                                  ¥薪资面议\n",
      "岗位职责    1、负责电商业务的实时数据仓库的构建；2、负责实时指标计算的数据建模、架构设计与开发；3、负...\n",
      "岗位要求    1、具备扎实的Java语言基础；2、熟悉并行计算或者分布式计算原理，熟悉高并发、高稳定性、可...\n",
      "Name: 3184, dtype: object\n",
      "岗位相似度： 1.0\n",
      "1092\t岗位名称                                   后端开发工程师 - 电商数据产品方向\n",
      "地点                                                    未公布\n",
      "工资                                                  ¥薪资面议\n",
      "岗位职责    \\n\\n1、深入理解并抽象电商业务的数据需求场景，为电商数据产品高效赋能；\\n\\n2、负责电...\n",
      "岗位要求    \\n\\n1、熟悉互联网产品和服务的开发过程，熟悉后端技术架构，具备良好的系统设计能力；\\n\\...\n",
      "Name: 1092, dtype: object\n",
      "岗位相似度： 0.6746811135449391\n",
      "---------------------------------------------------------------------------\n",
      "是否继续查询，请输入yes或者no：no\n"
     ]
    }
   ],
   "source": [
    "while True:\n",
    "    n = input('请输入你喜欢的一类岗位：')\n",
    "    print('---------------------------------------------------------------------------')\n",
    "    data = data_process[data_process['岗位名称'].str.contains(n)][['岗位名称','地点','工资','岗位职责','岗位要求']]\n",
    "    if len(data)>=1:\n",
    "        print(data)\n",
    "        data.to_excel('您喜欢的岗位数据.xlsx')\n",
    "        print('---------------------------------------------------------------------------')\n",
    "        m = input('请输入你想了解的岗位序号：')\n",
    "        print(data_process.loc[int(m),['岗位名称','地点','工资','岗位职责','岗位要求']])\n",
    "        data_process.loc[int(m),['岗位名称','地点','工资','岗位职责','岗位要求']].to_excel('您想了解的岗位数据.xlsx')\n",
    "        print('---------------------------------------------------------------------------')\n",
    "        k = input('是否需要推荐岗位职责相关工作？请输入yes或者no：')\n",
    "        a_dict = {}\n",
    "        if k =='yes':\n",
    "            n = 0\n",
    "            for i in X_tr:\n",
    "                a_dict[n] = cos_sin(X_tr[int(m)],i)\n",
    "                n += 1\n",
    "            L = sorted(a_dict.items(),key=lambda item:item[1],reverse=True)\n",
    "            data_frame = pd.DataFrame(columns=['岗位名称','地点','工资','岗位职责','岗位要求','相似度'])\n",
    "            for i in range(5):\n",
    "                print(L[i][0],end='\\t')\n",
    "                a = int(L[i][0])\n",
    "                print(data_process.iloc[a][['岗位名称','地点','工资','岗位职责','岗位要求']])\n",
    "                data_frame.loc[i] = data_process.iloc[a][['岗位名称','地点','工资','岗位职责','岗位要求']]\n",
    "                data_frame.loc[i][5] = L[i][1]\n",
    "\n",
    "                print('岗位相似度：',L[i][1])\n",
    "            data_frame.to_excel('相似岗位推荐.xlsx')\n",
    "        else:\n",
    "            pass\n",
    "        print('---------------------------------------------------------------------------')\n",
    "        o = input('是否继续查询，请输入yes或者no：')\n",
    "        if o == 'yes':\n",
    "            continue\n",
    "        else:\n",
    "            break\n",
    "    else:\n",
    "        print('---------------------------------------------------------------------------')\n",
    "        print('暂时无法查询您输入的工作岗位，请重新输入！')\n",
    "        continue"
   ]
  }
 ],
 "metadata": {
  "kernelspec": {
   "display_name": "Python 3",
   "language": "python",
   "name": "python3"
  },
  "language_info": {
   "codemirror_mode": {
    "name": "ipython",
    "version": 3
   },
   "file_extension": ".py",
   "mimetype": "text/x-python",
   "name": "python",
   "nbconvert_exporter": "python",
   "pygments_lexer": "ipython3",
   "version": "3.8.8"
  },
  "toc": {
   "base_numbering": 1,
   "nav_menu": {
    "height": "254px",
    "width": "296px"
   },
   "number_sections": true,
   "sideBar": true,
   "skip_h1_title": false,
   "title_cell": "Table of Contents",
   "title_sidebar": "Contents",
   "toc_cell": false,
   "toc_position": {
    "height": "calc(100% - 180px)",
    "left": "10px",
    "top": "150px",
    "width": "250.2px"
   },
   "toc_section_display": true,
   "toc_window_display": true
  }
 },
 "nbformat": 4,
 "nbformat_minor": 5
}
